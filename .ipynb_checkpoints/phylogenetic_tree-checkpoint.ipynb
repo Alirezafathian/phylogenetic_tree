{
 "cells": [
  {
   "cell_type": "markdown",
   "metadata": {},
   "source": [
    "## Neighbor Joining Method for Creating Phylogenetic Trees"
   ]
  },
  {
   "cell_type": "markdown",
   "metadata": {},
   "source": [
    "Neighbor joining is a clustering method for the creation of phylogenetic trees, created by Naruya Saitou and Masatoshi Nei in 1987.\n",
    "\n",
    "#### How to construct a tree with Neighbor-joining method?\n",
    "\n",
    "- Step 1: Calculate sum all distance from x and divide by (leaves – 2):\n",
    "Sx = (sum all Dx) / (leaves - 2)\n",
    "\n",
    "- Step 2:\n",
    "Calculate pair with smallest M:\n",
    "Mij = Distance ij – Si – Sj\n",
    "\n",
    "- Step 3:\n",
    "Create a node U that joins pair with lowest Mij:\n",
    "S1U = (Dij / 2) + (Si – Sj) / 2\n",
    "\n",
    "- Step 4:\n",
    "Join I and j according to S and make all other taxa in \n",
    "form of a star\n",
    "\n",
    "- Step 5:\n",
    "Recalculate new distance matrix of all other taxa to U \n",
    "with:\n",
    "DxU = Dix + Djx - Dij\n",
    "\n",
    "For more information about phylogenetic trees and neighbor joining method and see some examples of computing phylogenetic trees with neighbor joining method, take a look at the pdf file in <a href=\"https://github.com/Alirezafathian/phylogenetic_tree/blob/master/references/phylogenetic_tree.pdf\">root/references/phylogenetic_tree.pdf</a>"
   ]
  },
  {
   "cell_type": "markdown",
   "metadata": {},
   "source": [
    "### Import"
   ]
  },
  {
   "cell_type": "code",
   "execution_count": 206,
   "metadata": {},
   "outputs": [],
   "source": [
    "import numpy as np\n",
    "import math\n",
    "import matplotlib.pyplot as plt"
   ]
  },
  {
   "cell_type": "markdown",
   "metadata": {},
   "source": [
    "### Exapmles"
   ]
  },
  {
   "cell_type": "markdown",
   "metadata": {},
   "source": [
    "Some examples of  distance matrices.\n",
    "\n",
    "We will create their phylogenetic trees at the end of this notebook."
   ]
  },
  {
   "cell_type": "code",
   "execution_count": 2,
   "metadata": {},
   "outputs": [
    {
     "data": {
      "text/plain": [
       "array([[0, 0, 0, 0],\n",
       "       [8, 0, 0, 0],\n",
       "       [4, 8, 0, 0],\n",
       "       [6, 8, 6, 0]])"
      ]
     },
     "execution_count": 2,
     "metadata": {},
     "output_type": "execute_result"
    }
   ],
   "source": [
    "U1= ['A', 'B', 'C', 'D']\n",
    "example1 = np.array([[0,0,0,0],[8,0,0,0],[4,8,0,0],[6,8,6,0]])\n",
    "example1"
   ]
  },
  {
   "cell_type": "code",
   "execution_count": 3,
   "metadata": {},
   "outputs": [
    {
     "data": {
      "text/plain": [
       "array([[ 0,  0,  0,  0,  0,  0],\n",
       "       [ 5,  0,  0,  0,  0,  0],\n",
       "       [ 4,  7,  0,  0,  0,  0],\n",
       "       [ 7, 10,  7,  0,  0,  0],\n",
       "       [ 6,  9,  6,  5,  0,  0],\n",
       "       [ 8, 11,  8,  9,  8,  0]])"
      ]
     },
     "execution_count": 3,
     "metadata": {},
     "output_type": "execute_result"
    }
   ],
   "source": [
    "U2= ['A', 'B', 'C', 'D', 'E', 'F']\n",
    "example2 = np.array([[0,0,0,0,0,0],[5,0,0,0,0,0],[4,7,0,0,0,0],[7,10,7,0,0,0],[6,9,6,5,0,0],[8,11,8,9,8,0]])\n",
    "example2"
   ]
  },
  {
   "cell_type": "markdown",
   "metadata": {},
   "source": [
    "### Calculate S\n"
   ]
  },
  {
   "cell_type": "code",
   "execution_count": 4,
   "metadata": {},
   "outputs": [],
   "source": [
    "def S(A):\n",
    "    d = np.shape(A)[1]\n",
    "    l = []\n",
    "    for j in range(d):\n",
    "        l.append((np.sum(A[j,:j]) + np.sum(A[j+1:,j]))/(d - 2))\n",
    "    return(l)"
   ]
  },
  {
   "cell_type": "code",
   "execution_count": 5,
   "metadata": {},
   "outputs": [
    {
     "data": {
      "text/plain": [
       "[9.0, 12.0, 9.0, 10.0]"
      ]
     },
     "execution_count": 5,
     "metadata": {},
     "output_type": "execute_result"
    }
   ],
   "source": [
    "S(example1)"
   ]
  },
  {
   "cell_type": "code",
   "execution_count": 6,
   "metadata": {},
   "outputs": [
    {
     "data": {
      "text/plain": [
       "[7.5, 10.5, 8.0, 9.5, 8.5, 11.0]"
      ]
     },
     "execution_count": 6,
     "metadata": {},
     "output_type": "execute_result"
    }
   ],
   "source": [
    "S(example2)"
   ]
  },
  {
   "cell_type": "markdown",
   "metadata": {},
   "source": [
    "### Calculate The Pair With Smallest M, Calculate The Length Of Branches\n"
   ]
  },
  {
   "cell_type": "code",
   "execution_count": 7,
   "metadata": {},
   "outputs": [],
   "source": [
    "def M (A):\n",
    "    a = 0\n",
    "    b = 0\n",
    "    c = 0\n",
    "    d = np.shape(A)[1]\n",
    "    for i in range(2, d + 1):\n",
    "        for j in range(1, i):\n",
    "            m = A[i - 1][j - 1] - S(A)[i - 1] - S(A)[j - 1]\n",
    "            if m < a:\n",
    "                a = m\n",
    "                b = i\n",
    "                c = j\n",
    "    lbu1 = (A[b - 1][c - 1] + S(A)[b - 1] - S(A)[c - 1])/2.0\n",
    "    lcu1 = (A[b - 1][c - 1] + S(A)[c - 1] - S(A)[b - 1])/2.0\n",
    "    return([a,[b,c],[lbu1,lcu1]])"
   ]
  },
  {
   "cell_type": "code",
   "execution_count": 8,
   "metadata": {},
   "outputs": [
    {
     "data": {
      "text/plain": [
       "[-14.0, [3, 1], [2.0, 2.0]]"
      ]
     },
     "execution_count": 8,
     "metadata": {},
     "output_type": "execute_result"
    }
   ],
   "source": [
    "M(example1)"
   ]
  },
  {
   "cell_type": "code",
   "execution_count": 9,
   "metadata": {},
   "outputs": [
    {
     "data": {
      "text/plain": [
       "[-13.0, [2, 1], [4.0, 1.0]]"
      ]
     },
     "execution_count": 9,
     "metadata": {},
     "output_type": "execute_result"
    }
   ],
   "source": [
    "M(example2)"
   ]
  },
  {
   "cell_type": "markdown",
   "metadata": {},
   "source": [
    "### Calculate The New Distance Matrix\n"
   ]
  },
  {
   "cell_type": "markdown",
   "metadata": {},
   "source": [
    "#### Altered Column And Row\n"
   ]
  },
  {
   "cell_type": "code",
   "execution_count": 10,
   "metadata": {},
   "outputs": [],
   "source": [
    "def NewCR (A):\n",
    "    d   = np.shape(A)[1]\n",
    "    cf  = min(M(A)[1])\n",
    "    cf1 = max(M(A)[1])\n",
    "    c   = [0 for i in range(d)]\n",
    "    r   = [0 for i in range(d-1)]\n",
    "    \n",
    "    if cf == 1:\n",
    "        for i in range(cf + 1, d + 1):\n",
    "            c[i - 1] = (A[cf - 1, i - 1] + A[i - 1, cf - 1] + A[cf1 - 1, i - 1] + A[i - 1, cf1 - 1] - A[cf1 - 1, cf - 1])/2.0\n",
    "    else:\n",
    "        for i in range(1, cf):\n",
    "            r[i - 1] = (A[cf - 1, i - 1] + A[i - 1, cf - 1] + A[cf1 - 1, i - 1] + A[i - 1, cf1 - 1] - A[cf1 - 1, cf - 1])/2.0\n",
    "        for i in range(cf + 1, d+1):\n",
    "            c[i - 1] = (A[cf - 1, i - 1] + A[i - 1, cf - 1] + A[cf1 - 1, i - 1] + A[i - 1, cf1 - 1] - A[cf1 - 1, cf - 1])/2.0\n",
    "    del c[cf1 - 1]\n",
    "    return([r,c])"
   ]
  },
  {
   "cell_type": "code",
   "execution_count": 11,
   "metadata": {},
   "outputs": [
    {
     "data": {
      "text/plain": [
       "[[0, 0, 0], [0, 6.0, 4.0]]"
      ]
     },
     "execution_count": 11,
     "metadata": {},
     "output_type": "execute_result"
    }
   ],
   "source": [
    "NewCR(example1)"
   ]
  },
  {
   "cell_type": "code",
   "execution_count": 12,
   "metadata": {},
   "outputs": [
    {
     "data": {
      "text/plain": [
       "[[0, 0, 0, 0, 0], [0, 3.0, 6.0, 5.0, 7.0]]"
      ]
     },
     "execution_count": 12,
     "metadata": {},
     "output_type": "execute_result"
    }
   ],
   "source": [
    "NewCR(example2)"
   ]
  },
  {
   "cell_type": "markdown",
   "metadata": {},
   "source": [
    "#### New Matrix"
   ]
  },
  {
   "cell_type": "code",
   "execution_count": 13,
   "metadata": {
    "scrolled": false
   },
   "outputs": [],
   "source": [
    "def NewM (A):\n",
    "    A1  = A.copy()\n",
    "    cf1 = max(M(A)[1])\n",
    "    cf  = min(M(A)[1])\n",
    "    d   = np.shape(A)[1]\n",
    "    A1  = np.delete(A1,cf1 - 1, 1)\n",
    "    A1  = np.delete(A1, cf1 - 1, 0)\n",
    "\n",
    "    A1[cf - 1,:d - 1] = NewCR(A)[0]\n",
    "    A1[:d - 1,cf - 1] = NewCR(A)[1]\n",
    "    return(A1)"
   ]
  },
  {
   "cell_type": "code",
   "execution_count": 14,
   "metadata": {},
   "outputs": [
    {
     "data": {
      "text/plain": [
       "array([[0, 0, 0],\n",
       "       [6, 0, 0],\n",
       "       [4, 8, 0]])"
      ]
     },
     "execution_count": 14,
     "metadata": {},
     "output_type": "execute_result"
    }
   ],
   "source": [
    "NewM(example1)"
   ]
  },
  {
   "cell_type": "code",
   "execution_count": 15,
   "metadata": {},
   "outputs": [
    {
     "data": {
      "text/plain": [
       "array([[0, 0, 0, 0, 0],\n",
       "       [3, 0, 0, 0, 0],\n",
       "       [6, 7, 0, 0, 0],\n",
       "       [5, 6, 5, 0, 0],\n",
       "       [7, 8, 9, 8, 0]])"
      ]
     },
     "execution_count": 15,
     "metadata": {},
     "output_type": "execute_result"
    }
   ],
   "source": [
    "NewM(example2)"
   ]
  },
  {
   "cell_type": "markdown",
   "metadata": {},
   "source": [
    "### Newick Format"
   ]
  },
  {
   "cell_type": "code",
   "execution_count": 16,
   "metadata": {},
   "outputs": [],
   "source": [
    "def NF (A, CH):\n",
    "    ch = CH.copy()\n",
    "    a  = A.copy()\n",
    "    d  = np.shape(a)[1]\n",
    "    while (d>2):\n",
    "        w1  = M(a)[1]\n",
    "        w2  = M(a)[2]\n",
    "        cf  = min(w1)\n",
    "        cf1 = max(w1)\n",
    "        y   = []\n",
    "        if type(ch[w1[0] - 1])== str:\n",
    "            y.append([ch[w1[0] - 1],w2[0]])\n",
    "        else:\n",
    "            y.append(ch[w1[0] - 1])\n",
    "        if type(ch[w1[1] - 1])== str:\n",
    "            y.append([ch[w1[1] - 1],w2[1]])\n",
    "        else:\n",
    "            y.append(ch[w1[1] - 1])\n",
    "        #y = [y]\n",
    "        ch[cf - 1] = y\n",
    "        del ch[cf1 - 1]\n",
    "        a = NewM(a)\n",
    "        d = np.shape(a)[1]\n",
    "\n",
    "    if type(ch[0])== str:\n",
    "        ch[0] = [ch[0],a[1, 0]]\n",
    "    if type(ch[1])== str:\n",
    "        ch[1] = [ch[1],a[1, 0]]\n",
    "    return(ch)"
   ]
  },
  {
   "cell_type": "code",
   "execution_count": 17,
   "metadata": {},
   "outputs": [
    {
     "data": {
      "text/plain": [
       "[[['B', 5.0], [['C', 2.0], ['A', 2.0]]], ['D', 3]]"
      ]
     },
     "execution_count": 17,
     "metadata": {},
     "output_type": "execute_result"
    }
   ],
   "source": [
    "NF(example1, U1)"
   ]
  },
  {
   "cell_type": "code",
   "execution_count": 18,
   "metadata": {},
   "outputs": [
    {
     "data": {
      "text/plain": [
       "[[[['E', 2.0], ['D', 3.0]], [['C', 2.0], [['B', 4.0], ['A', 1.0]]]], ['F', 5]]"
      ]
     },
     "execution_count": 18,
     "metadata": {},
     "output_type": "execute_result"
    }
   ],
   "source": [
    "NF(example2, U2)"
   ]
  },
  {
   "cell_type": "markdown",
   "metadata": {},
   "source": [
    "### Generate Branches"
   ]
  },
  {
   "cell_type": "markdown",
   "metadata": {},
   "source": [
    "drawing simple branches as the bulding blocks of the phylogenetic tree"
   ]
  },
  {
   "cell_type": "code",
   "execution_count": 19,
   "metadata": {},
   "outputs": [],
   "source": [
    "def newX(deg,x,y,x0,y0):\n",
    "    return ( (x - x0) * math.cos(deg) + (y - y0) * math.sin(deg)) + x0\n",
    "def newY(deg,x,y,x0,y0): \n",
    "    return (-(x - x0) * math.sin(deg) + (y - y0) * math.cos(deg)) + y0"
   ]
  },
  {
   "cell_type": "code",
   "execution_count": 221,
   "metadata": {},
   "outputs": [],
   "source": [
    "def BR(p1, p2, L, deg):\n",
    "    if deg == 90:\n",
    "        if p2[1] != p1[1]:\n",
    "            m = -(p2[0] - p1[0]) / (p2[1] - p1[1])\n",
    "        else:\n",
    "            m = 100\n",
    "        m1 = m\n",
    "        m2 = m\n",
    "    else:\n",
    "        x1 = newX( deg,p1[0],p1[1],p2[0],p2[1])\n",
    "        y1 = newY( deg,p1[0],p1[1],p2[0],p2[1])\n",
    "        x2 = newX(-deg,p1[0],p1[1],p2[0],p2[1])\n",
    "        y2 = newY(-deg,p1[0],p1[1],p2[0],p2[1])\n",
    "        p11 = [x1,y1]\n",
    "        p12 = [x2,y2]\n",
    "        if p2 != p1:\n",
    "            m1 = -(p2[0] - p11[0]) / (p2[1] - p11[1])\n",
    "            m2 = -(p2[0] - p12[0]) / (p2[1] - p12[1])\n",
    "        else:\n",
    "            m1 = 100\n",
    "            m2 = 100\n",
    "    k  = math.sqrt(L*L/(1 + m1*m1))\n",
    "    a  = k + p2[0]\n",
    "    b  = m1 * k + p2[1]\n",
    "    c  = -k + p2[0]\n",
    "    d  = -m1 * k + p2[1]\n",
    "    k2 = math.sqrt(L*L/(1 + m2*m2))\n",
    "    a2 = k2 + p2[0]\n",
    "    b2 = m2 * k2 + p2[1]\n",
    "    c2 = -k2 + p2[0]\n",
    "    d2 = -m2 * k2 + p2[1]\n",
    "    if deg == 90:\n",
    "        return [p2,[a,b]], [p2,[c,d]]\n",
    "    elif (p1[0]-p2[0])**2 > (p1[1]-p2[1])**2 and p2[0]<p1[0]:\n",
    "        return [[p2,[c,d]], [p2,[c2,d2]]]\n",
    "    elif (p1[0]-p2[0])**2 > (p1[1]-p2[1])**2 and p2[0]>p1[0]:\n",
    "        return [[p2,[a,b]], [p2,[a2,b2]]]\n",
    "    elif (p1[0]-p2[0])**2 < (p1[1]-p2[1])**2 and p2[1]<p1[1]:\n",
    "        return [[p2,[a,b]], [p2,[c2,d2]]]\n",
    "    elif (p1[0]-p2[0])**2 < (p1[1]-p2[1])**2 and p2[1]>p1[1]:\n",
    "        return [[p2,[c,d]], [p2,[a2,b2]]]"
   ]
  },
  {
   "cell_type": "code",
   "execution_count": 232,
   "metadata": {},
   "outputs": [
    {
     "name": "stdout",
     "output_type": "stream",
     "text": [
      "These are the building blocks of trees:\n"
     ]
    },
    {
     "data": {
      "image/png": "[encoded data removed]",
      "text/plain": [
       "<Figure size 432x288 with 8 Axes>"
      ]
     },
     "metadata": {
      "needs_background": "light"
     },
     "output_type": "display_data"
    }
   ],
   "source": [
    "print(\"These are the building blocks of trees:\")\n",
    "def Bplt(a,b):\n",
    "    return plt.plot([a[0][0],a[1][0],b[0][0][0],b[0][1][0],b[1][0][0],b[1][1][0]],\n",
    "                    [a[0][1],a[1][1],b[0][0][1],b[0][1][1],b[1][0][1],b[1][1][1]]),plt.axis('off')\n",
    "\n",
    "plt.subplot(241)\n",
    "a = [[-6.0, 0.0],[0, 0]];b = BR(a[0],a[1], 3, 45)\n",
    "Bplt(a,b)\n",
    "\n",
    "plt.subplot(242)\n",
    "a = [[0, 0], [-6.0, 0.0]];b = BR(a[0],a[1], 3, 45)\n",
    "Bplt(a,b)\n",
    "\n",
    "plt.subplot(243)\n",
    "a = [[0, 1],[0, 0]];b = BR(a[0],a[1], 3, 45)\n",
    "Bplt(a,b)\n",
    "\n",
    "plt.subplot(244)\n",
    "a = [[-6.0, -6],[-6.0, -0.0]];b = BR(a[0],a[1], 3, 45)\n",
    "Bplt(a,b)\n",
    "\n",
    "plt.subplot(245)\n",
    "a = [[-6.0, 0.0],[0, 0]];b = BR(a[0],a[1], 3, 90)\n",
    "Bplt(a,b)\n",
    "\n",
    "plt.subplot(246)\n",
    "a = [[0,0], [-6, 0]];b = BR(a[0],a[1], 3, 90)\n",
    "Bplt(a,b)\n",
    "\n",
    "plt.subplot(247)\n",
    "a = [[0,0], [0, -1]];b = BR(a[0],a[1], 3, 90)\n",
    "Bplt(a,b)\n",
    "\n",
    "plt.subplot(248)\n",
    "a = [[0,-1], [0, 0]];b = BR(a[0],a[1], 3, 90)\n",
    "Bplt(a,b)\n",
    "\n",
    "plt.show()"
   ]
  },
  {
   "cell_type": "markdown",
   "metadata": {},
   "source": [
    "### Phylogenetic Tree"
   ]
  },
  {
   "cell_type": "markdown",
   "metadata": {},
   "source": [
    "#### Points"
   ]
  },
  {
   "cell_type": "markdown",
   "metadata": {},
   "source": [
    "Finding out the location of different nodes in the tree"
   ]
  },
  {
   "cell_type": "code",
   "execution_count": 180,
   "metadata": {},
   "outputs": [],
   "source": [
    "p   = []\n",
    "lbl = []\n",
    "def Points (NWF, v0, P,LBL):\n",
    "    global lbl,nwf,p\n",
    "    p = P\n",
    "    lbl = LBL\n",
    "    nwf = NWF\n",
    "    lst = []\n",
    "    lst.append(v0)\n",
    "    if type(nwf[0][0])==str and type(nwf[1][0])==str:\n",
    "        lst.append(BR(v0[0], v0[1], nwf[0][1], 45)[0])\n",
    "        vv  = BR(v0[0], v0[1], nwf[0][1], 45)[0]\n",
    "        vv.append([nwf[0][0],nwf[0][1]])\n",
    "        lbl.append(vv)\n",
    "        lst.append(BR(v0[0], v0[1], nwf[1][1], 45)[1])\n",
    "        vv  = BR(v0[0], v0[1], nwf[1][1], 45)[1]\n",
    "        vv.append([nwf[1][0],nwf[1][1]])\n",
    "        lbl.append(vv)\n",
    "        del lst[0]\n",
    "        p.extend(lst)\n",
    "        return([p,lbl])\n",
    "    elif type(nwf[0][0])==str:\n",
    "        lst.append(BR(v0[0], v0[1], nwf[0][1], 45)[0])\n",
    "        vv = BR(v0[0], v0[1], nwf[0][1], 45)[0]\n",
    "        vv.append([nwf[0][0],nwf[0][1]])\n",
    "        lbl.append(vv)\n",
    "        lst.append(BR(v0[0], v0[1], 6, 90)[1])\n",
    "        del lst[0]\n",
    "        p.extend(lst)\n",
    "        del nwf[0]\n",
    "        n =len(nwf)\n",
    "        while (n<2):\n",
    "            nwf=nwf[0]\n",
    "            n = len(nwf)\n",
    "        return(Points(nwf, lst[-1],p,lbl))\n",
    "    elif type(nwf[1][0])==str:\n",
    "        lst.append(BR(v0[0], v0[1], nwf[1][1], 45)[0])\n",
    "        vv = BR(v0[0], v0[1], nwf[1][1], 45)[0]\n",
    "        vv.append([nwf[1][0],nwf[1][1]])\n",
    "        lbl.append(vv)\n",
    "        lst.append(BR(v0[0], v0[1], 6, 90)[1])\n",
    "        del lst[0]\n",
    "        p.extend(lst)\n",
    "        del nwf[1]\n",
    "        n =len(nwf)\n",
    "        while (n<2):\n",
    "            nwf=nwf[0]\n",
    "            n = len(nwf)\n",
    "        return(Points(nwf, lst[-1],p,lbl))\n",
    "    else:\n",
    "        lst.append(BR(v0[0], v0[1], 6, 90)[0])\n",
    "        lst.append(BR(v0[0], v0[1], 6, 90)[1])\n",
    "        del lst[0]\n",
    "        p.extend(lst)\n",
    "        ss = nwf[1]\n",
    "        Points(nwf[0], BR(v0[0], v0[1], 6, 90)[0],p,lbl)\n",
    "        return(Points(ss, BR(v0[0], v0[1], 6, 90)[1],p,lbl))"
   ]
  },
  {
   "cell_type": "code",
   "execution_count": 181,
   "metadata": {},
   "outputs": [],
   "source": [
    "nf1 = [[\"B\",2],[\"C\",3]]\n",
    "a   = Points(NWF = nf1, v0 = [[0, 1], [0, 0]],P = [], LBL = [])"
   ]
  },
  {
   "cell_type": "code",
   "execution_count": 182,
   "metadata": {},
   "outputs": [],
   "source": [
    "nf2 = [[\"D\",4],[[\"B\",2],[\"C\",3]]]\n",
    "b   = Points(NWF = nf2, v0 = [[0, 1], [0, 0]],P = [], LBL = [])"
   ]
  },
  {
   "cell_type": "code",
   "execution_count": 183,
   "metadata": {},
   "outputs": [],
   "source": [
    "ex1_points = Points(NWF = NF(example1, U1), v0 = [[0, 1], [0, 0]],P = [], LBL = [])"
   ]
  },
  {
   "cell_type": "code",
   "execution_count": 184,
   "metadata": {
    "scrolled": false
   },
   "outputs": [],
   "source": [
    "ex2_points = Points(NWF = NF(example2, U2), v0 = [[0, 1], [0, 0]],P = [], LBL = [])"
   ]
  },
  {
   "cell_type": "markdown",
   "metadata": {},
   "source": [
    "#### Draw"
   ]
  },
  {
   "cell_type": "code",
   "execution_count": 199,
   "metadata": {},
   "outputs": [],
   "source": [
    "def draw(p):\n",
    "    for i in p[0]:\n",
    "        x = [i[0][0],i[1][0]]\n",
    "        y = [i[0][1],i[1][1]]\n",
    "        plt.plot(x, y)\n",
    "        plt.scatter(i[1][0],i[1][1])\n",
    "    for i in p[1]:\n",
    "        x = (i[0][0]+i[1][0])/2.0\n",
    "        y = (i[0][1]+i[1][1])/2.0\n",
    "        plt.text(i[1][0],i[1][1],'%s'%i[2][0])\n",
    "        plt.text(x+.1, y+.1, '%d'%(i[2][1]))\n",
    "    plt.axis('off')\n",
    "    plt.show()"
   ]
  },
  {
   "cell_type": "code",
   "execution_count": 200,
   "metadata": {},
   "outputs": [
    {
     "name": "stdout",
     "output_type": "stream",
     "text": [
      "[['B', 2], ['C', 3]]\n"
     ]
    },
    {
     "data": {
      "image/png": "[encoded data removed]",
      "text/plain": [
       "<Figure size 432x288 with 1 Axes>"
      ]
     },
     "metadata": {
      "needs_background": "light"
     },
     "output_type": "display_data"
    }
   ],
   "source": [
    "print([[\"B\",2],[\"C\",3]])\n",
    "draw(a)"
   ]
  },
  {
   "cell_type": "code",
   "execution_count": 201,
   "metadata": {},
   "outputs": [
    {
     "name": "stdout",
     "output_type": "stream",
     "text": [
      "[['D', 4], [['B', 2], ['C', 3]]]\n"
     ]
    },
    {
     "data": {
      "image/png": "[encoded data removed]",
      "text/plain": [
       "<Figure size 432x288 with 1 Axes>"
      ]
     },
     "metadata": {
      "needs_background": "light"
     },
     "output_type": "display_data"
    }
   ],
   "source": [
    "print([[\"D\",4],[[\"B\",2],[\"C\",3]]])\n",
    "draw(b)"
   ]
  },
  {
   "cell_type": "code",
   "execution_count": 202,
   "metadata": {},
   "outputs": [
    {
     "name": "stdout",
     "output_type": "stream",
     "text": [
      "[[['B', 5.0], [['C', 2.0], ['A', 2.0]]], ['D', 3]]\n"
     ]
    },
    {
     "data": {
      "image/png": "[encoded data removed]",
      "text/plain": [
       "<Figure size 432x288 with 1 Axes>"
      ]
     },
     "metadata": {
      "needs_background": "light"
     },
     "output_type": "display_data"
    }
   ],
   "source": [
    "print(NF(example1,U1))\n",
    "draw(ex1_points)"
   ]
  },
  {
   "cell_type": "code",
   "execution_count": 203,
   "metadata": {
    "scrolled": true
   },
   "outputs": [
    {
     "name": "stdout",
     "output_type": "stream",
     "text": [
      "[[[['E', 2.0], ['D', 3.0]], [['C', 2.0], [['B', 4.0], ['A', 1.0]]]], ['F', 5]]\n"
     ]
    },
    {
     "data": {
      "image/png": "[encoded data removed]",
      "text/plain": [
       "<Figure size 432x288 with 1 Axes>"
      ]
     },
     "metadata": {
      "needs_background": "light"
     },
     "output_type": "display_data"
    }
   ],
   "source": [
    "print(NF(example2,U2))\n",
    "draw(ex2_points)"
   ]
  },
  {
   "cell_type": "code",
   "execution_count": 204,
   "metadata": {},
   "outputs": [
    {
     "name": "stdout",
     "output_type": "stream",
     "text": [
      "[[[['E', 2.0], ['D', 3.0]], [['C', 2.0], [['B', 4.0], ['A', 1.0]]]], ['F', 5]]\n"
     ]
    },
    {
     "data": {
      "image/png": "[encoded data removed]",
      "text/plain": [
       "<Figure size 432x288 with 1 Axes>"
      ]
     },
     "metadata": {
      "needs_background": "light"
     },
     "output_type": "display_data"
    }
   ],
   "source": [
    "print(NF(example2,U2))\n",
    "draw(ex2_points)"
   ]
  }
 ],
 "metadata": {
  "kernelspec": {
   "display_name": "Python 3",
   "language": "python",
   "name": "python3"
  },
  "language_info": {
   "codemirror_mode": {
    "name": "ipython",
    "version": 3
   },
   "file_extension": ".py",
   "mimetype": "text/x-python",
   "name": "python",
   "nbconvert_exporter": "python",
   "pygments_lexer": "ipython3",
   "version": "3.6.9"
  }
 },
 "nbformat": 4,
 "nbformat_minor": 4
}
